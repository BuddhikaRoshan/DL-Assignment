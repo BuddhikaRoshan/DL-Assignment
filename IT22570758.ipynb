{
  "cells": [
    {
      "cell_type": "markdown",
      "metadata": {
        "id": "view-in-github",
        "colab_type": "text"
      },
      "source": [
        "<a href=\"https://colab.research.google.com/github/BuddhikaRoshan/Deep-Learning-Assignment/blob/Heshani/IT22570758.ipynb\" target=\"_parent\"><img src=\"https://colab.research.google.com/assets/colab-badge.svg\" alt=\"Open In Colab\"/></a>"
      ]
    },
    {
      "cell_type": "code",
      "execution_count": 13,
      "id": "92d46e1a",
      "metadata": {
        "colab": {
          "base_uri": "https://localhost:8080/"
        },
        "id": "92d46e1a",
        "outputId": "afdeb4df-a4f6-49b6-8b03-d57dda5e091d"
      },
      "outputs": [
        {
          "output_type": "stream",
          "name": "stdout",
          "text": [
            "Drive already mounted at /content/drive; to attempt to forcibly remount, call drive.mount(\"/content/drive\", force_remount=True).\n"
          ]
        }
      ],
      "source": [
        "from google.colab import drive\n",
        "drive.mount('/content/drive')"
      ]
    },
    {
      "cell_type": "code",
      "execution_count": null,
      "id": "f1866ddd",
      "metadata": {
        "id": "f1866ddd"
      },
      "outputs": [],
      "source": [
        "import numpy as np\n",
        "import pandas as pd\n",
        "import matplotlib.pyplot as plt\n",
        "from PIL import Image\n",
        "from glob import glob\n",
        "\n",
        "from sklearn.model_selection import train_test_split\n",
        "from sklearn import metrics\n",
        "\n",
        "from zipfile import ZipFile\n",
        "import cv2\n",
        "import gc\n",
        "import os\n",
        "\n",
        "import tensorflow as tf\n",
        "from tensorflow import keras\n",
        "from keras import layers\n",
        "\n",
        "import warnings\n",
        "warnings.filterwarnings('ignore')"
      ]
    },
    {
      "cell_type": "code",
      "execution_count": null,
      "id": "1bba2d54",
      "metadata": {
        "id": "1bba2d54"
      },
      "outputs": [],
      "source": [
        "data_path = '/content/drive/MyDrive/Deep_Learning_Final_Assignment/lung_images.zip'\n",
        "\n",
        "with ZipFile(data_path,'r') as zip:\n",
        "  zip.extractall()\n",
        "  print('The data set has been extracted.')"
      ]
    },
    {
      "cell_type": "code",
      "execution_count": null,
      "id": "G6fChEkHlu-W",
      "metadata": {
        "id": "G6fChEkHlu-W"
      },
      "outputs": [],
      "source": [
        "path = 'lung_images'\n",
        "classes = ['lung_n', 'lung_aca']\n",
        "\n",
        "for cat in classes:\n",
        "    image_dir = f'{path}/{cat}'\n",
        "    images = os.listdir(image_dir)\n",
        "\n",
        "    fig, ax = plt.subplots(1, 3, figsize=(15, 5))\n",
        "    fig.suptitle(f'Images for {cat} category . . . .', fontsize=20)\n",
        "\n",
        "    for i in range(3):\n",
        "        k = np.random.randint(0, len(images))\n",
        "        img = np.array(Image.open(f'{path}/{cat}/{images[k]}'))\n",
        "        ax[i].imshow(img)\n",
        "        ax[i].axis('off')\n",
        "    plt.show()"
      ]
    },
    {
      "cell_type": "code",
      "execution_count": null,
      "id": "-9MmctRBuJW7",
      "metadata": {
        "id": "-9MmctRBuJW7"
      },
      "outputs": [],
      "source": [
        "IMG_SIZE = 256\n",
        "SPLIT = 0.2\n",
        "EPOCHS = 20\n",
        "BATCH_SIZE = 64\n",
        "\n",
        "X = []\n",
        "Y = []\n",
        "\n",
        "for i, cat in enumerate(classes):\n",
        "  images = glob(f'{path}/{cat}/*.jpeg')\n",
        "\n",
        "  for image in images:\n",
        "    img = cv2.imread(image)\n",
        "\n",
        "    X.append(cv2.resize(img, (IMG_SIZE, IMG_SIZE)))\n",
        "    Y.append(i)\n",
        "\n",
        "X = np.asarray(X)\n",
        "one_hot_encoded_Y = pd.get_dummies(Y).values\n",
        "\n",
        "X_train, X_val, Y_train, Y_val = train_test_split(X, one_hot_encoded_Y, test_size=SPLIT, random_state=2022)"
      ]
    },
    {
      "cell_type": "code",
      "execution_count": null,
      "id": "slY7rCPc2dTE",
      "metadata": {
        "id": "slY7rCPc2dTE"
      },
      "outputs": [],
      "source": [
        "model = keras.models.Sequential([\n",
        "    layers.Conv2D(filters=32,\n",
        "                  kernel_size=(5, 5),\n",
        "                  activation='relu',\n",
        "                  input_shape=(IMG_SIZE,\n",
        "                               IMG_SIZE,\n",
        "                               3),\n",
        "                  padding='same'),\n",
        "    layers.MaxPooling2D(2, 2),\n",
        "\n",
        "    layers.Conv2D(filters=64,\n",
        "                  kernel_size=(3, 3),\n",
        "                  activation='relu',\n",
        "                  padding='same'),\n",
        "    layers.MaxPooling2D(2, 2),\n",
        "\n",
        "    layers.Conv2D(filters=128,\n",
        "                  kernel_size=(3, 3),\n",
        "                  activation='relu',\n",
        "                  padding='same'),\n",
        "    layers.MaxPooling2D(2, 2),\n",
        "\n",
        "    layers.Flatten(),\n",
        "    layers.Dense(256, activation='relu'),\n",
        "    layers.BatchNormalization(),\n",
        "    layers.Dense(128, activation='relu'),\n",
        "    layers.Dropout(0.3),\n",
        "    layers.BatchNormalization(),\n",
        "    layers.Dense(2, activation='softmax')\n",
        "])\n",
        "model.summary()\n"
      ]
    },
    {
      "cell_type": "code",
      "execution_count": null,
      "id": "6OBmrly4GOdW",
      "metadata": {
        "id": "6OBmrly4GOdW"
      },
      "outputs": [],
      "source": [
        "from keras.callbacks import EarlyStopping, ReduceLROnPlateau\n",
        "\n",
        "\n",
        "class myCallback(tf.keras.callbacks.Callback):\n",
        "    def on_epoch_end(self, epoch, logs={}):\n",
        "        if logs.get('val_accuracy') > 0.90:\n",
        "            print('\\n Validation accuracy has reached upto \\\n",
        "                      90% so, stopping further training.')\n",
        "            self.model.stop_training = True\n",
        "\n",
        "\n",
        "es = EarlyStopping(patience=3,\n",
        "                   monitor='val_accuracy',\n",
        "                   restore_best_weights=True)\n",
        "\n",
        "lr = ReduceLROnPlateau(monitor='val_loss',\n",
        "                       patience=2,\n",
        "                       factor=0.5,\n",
        "                       verbose=1)"
      ]
    },
    {
      "cell_type": "code",
      "execution_count": null,
      "id": "4c4xZ5z0nvSd",
      "metadata": {
        "id": "4c4xZ5z0nvSd"
      },
      "outputs": [],
      "source": [
        "model.compile(optimizer='adam',\n",
        "              loss='categorical_crossentropy',\n",
        "              metrics=['accuracy'])"
      ]
    },
    {
      "cell_type": "code",
      "source": [
        "history = model.fit(X_train, Y_train,\n",
        "                    validation_data = (X_val, Y_val),\n",
        "                    batch_size = BATCH_SIZE,\n",
        "                    epochs = EPOCHS,\n",
        "                    verbose = 1,\n",
        "                   )"
      ],
      "metadata": {
        "colab": {
          "base_uri": "https://localhost:8080/"
        },
        "id": "ovebWtA03h84",
        "outputId": "6f4192ea-843f-4547-c381-45716e8cc519"
      },
      "id": "ovebWtA03h84",
      "execution_count": 14,
      "outputs": [
        {
          "output_type": "stream",
          "name": "stdout",
          "text": [
            "Epoch 1/20\n",
            "\u001b[1m15/15\u001b[0m \u001b[32m━━━━━━━━━━━━━━━━━━━━\u001b[0m\u001b[37m\u001b[0m \u001b[1m112s\u001b[0m 7s/step - accuracy: 1.0000 - loss: 0.0013 - val_accuracy: 0.5375 - val_loss: 4.8628\n",
            "Epoch 2/20\n",
            "\u001b[1m15/15\u001b[0m \u001b[32m━━━━━━━━━━━━━━━━━━━━\u001b[0m\u001b[37m\u001b[0m \u001b[1m138s\u001b[0m 7s/step - accuracy: 1.0000 - loss: 8.4246e-04 - val_accuracy: 0.9167 - val_loss: 0.3166\n",
            "Epoch 3/20\n",
            "\u001b[1m15/15\u001b[0m \u001b[32m━━━━━━━━━━━━━━━━━━━━\u001b[0m\u001b[37m\u001b[0m \u001b[1m108s\u001b[0m 7s/step - accuracy: 1.0000 - loss: 8.8633e-04 - val_accuracy: 0.7708 - val_loss: 0.9787\n",
            "Epoch 4/20\n",
            "\u001b[1m15/15\u001b[0m \u001b[32m━━━━━━━━━━━━━━━━━━━━\u001b[0m\u001b[37m\u001b[0m \u001b[1m108s\u001b[0m 7s/step - accuracy: 1.0000 - loss: 6.4363e-04 - val_accuracy: 0.9500 - val_loss: 0.1729\n",
            "Epoch 5/20\n",
            "\u001b[1m15/15\u001b[0m \u001b[32m━━━━━━━━━━━━━━━━━━━━\u001b[0m\u001b[37m\u001b[0m \u001b[1m108s\u001b[0m 7s/step - accuracy: 1.0000 - loss: 4.5098e-04 - val_accuracy: 0.9667 - val_loss: 0.1371\n",
            "Epoch 6/20\n",
            "\u001b[1m15/15\u001b[0m \u001b[32m━━━━━━━━━━━━━━━━━━━━\u001b[0m\u001b[37m\u001b[0m \u001b[1m141s\u001b[0m 7s/step - accuracy: 1.0000 - loss: 4.0726e-04 - val_accuracy: 0.9750 - val_loss: 0.1503\n",
            "Epoch 7/20\n",
            "\u001b[1m15/15\u001b[0m \u001b[32m━━━━━━━━━━━━━━━━━━━━\u001b[0m\u001b[37m\u001b[0m \u001b[1m143s\u001b[0m 7s/step - accuracy: 1.0000 - loss: 4.0716e-04 - val_accuracy: 0.9625 - val_loss: 0.2666\n",
            "Epoch 8/20\n",
            "\u001b[1m15/15\u001b[0m \u001b[32m━━━━━━━━━━━━━━━━━━━━\u001b[0m\u001b[37m\u001b[0m \u001b[1m142s\u001b[0m 7s/step - accuracy: 1.0000 - loss: 0.0014 - val_accuracy: 0.9708 - val_loss: 0.1481\n",
            "Epoch 9/20\n",
            "\u001b[1m15/15\u001b[0m \u001b[32m━━━━━━━━━━━━━━━━━━━━\u001b[0m\u001b[37m\u001b[0m \u001b[1m107s\u001b[0m 7s/step - accuracy: 1.0000 - loss: 5.3917e-04 - val_accuracy: 0.9625 - val_loss: 0.0920\n",
            "Epoch 10/20\n",
            "\u001b[1m15/15\u001b[0m \u001b[32m━━━━━━━━━━━━━━━━━━━━\u001b[0m\u001b[37m\u001b[0m \u001b[1m144s\u001b[0m 7s/step - accuracy: 1.0000 - loss: 0.0018 - val_accuracy: 0.7167 - val_loss: 0.9901\n",
            "Epoch 11/20\n",
            "\u001b[1m15/15\u001b[0m \u001b[32m━━━━━━━━━━━━━━━━━━━━\u001b[0m\u001b[37m\u001b[0m \u001b[1m142s\u001b[0m 7s/step - accuracy: 1.0000 - loss: 7.2906e-04 - val_accuracy: 0.5000 - val_loss: 11.0533\n",
            "Epoch 12/20\n",
            "\u001b[1m15/15\u001b[0m \u001b[32m━━━━━━━━━━━━━━━━━━━━\u001b[0m\u001b[37m\u001b[0m \u001b[1m108s\u001b[0m 7s/step - accuracy: 0.9973 - loss: 0.0079 - val_accuracy: 0.5292 - val_loss: 5.0800\n",
            "Epoch 13/20\n",
            "\u001b[1m15/15\u001b[0m \u001b[32m━━━━━━━━━━━━━━━━━━━━\u001b[0m\u001b[37m\u001b[0m \u001b[1m108s\u001b[0m 7s/step - accuracy: 0.9991 - loss: 0.0082 - val_accuracy: 0.5250 - val_loss: 6.1151\n",
            "Epoch 14/20\n",
            "\u001b[1m15/15\u001b[0m \u001b[32m━━━━━━━━━━━━━━━━━━━━\u001b[0m\u001b[37m\u001b[0m \u001b[1m142s\u001b[0m 7s/step - accuracy: 1.0000 - loss: 0.0024 - val_accuracy: 0.5000 - val_loss: 19.0688\n",
            "Epoch 15/20\n",
            "\u001b[1m15/15\u001b[0m \u001b[32m━━━━━━━━━━━━━━━━━━━━\u001b[0m\u001b[37m\u001b[0m \u001b[1m138s\u001b[0m 7s/step - accuracy: 0.9999 - loss: 0.0029 - val_accuracy: 0.7083 - val_loss: 1.6372\n",
            "Epoch 16/20\n",
            "\u001b[1m15/15\u001b[0m \u001b[32m━━━━━━━━━━━━━━━━━━━━\u001b[0m\u001b[37m\u001b[0m \u001b[1m107s\u001b[0m 7s/step - accuracy: 1.0000 - loss: 0.0020 - val_accuracy: 0.5000 - val_loss: 9.7888\n",
            "Epoch 17/20\n",
            "\u001b[1m15/15\u001b[0m \u001b[32m━━━━━━━━━━━━━━━━━━━━\u001b[0m\u001b[37m\u001b[0m \u001b[1m143s\u001b[0m 7s/step - accuracy: 1.0000 - loss: 9.1984e-04 - val_accuracy: 0.8917 - val_loss: 0.5318\n",
            "Epoch 18/20\n",
            "\u001b[1m15/15\u001b[0m \u001b[32m━━━━━━━━━━━━━━━━━━━━\u001b[0m\u001b[37m\u001b[0m \u001b[1m142s\u001b[0m 7s/step - accuracy: 1.0000 - loss: 9.6322e-04 - val_accuracy: 0.5250 - val_loss: 5.7168\n",
            "Epoch 19/20\n",
            "\u001b[1m15/15\u001b[0m \u001b[32m━━━━━━━━━━━━━━━━━━━━\u001b[0m\u001b[37m\u001b[0m \u001b[1m104s\u001b[0m 7s/step - accuracy: 1.0000 - loss: 4.7422e-04 - val_accuracy: 0.5000 - val_loss: 8.3152\n",
            "Epoch 20/20\n",
            "\u001b[1m15/15\u001b[0m \u001b[32m━━━━━━━━━━━━━━━━━━━━\u001b[0m\u001b[37m\u001b[0m \u001b[1m146s\u001b[0m 7s/step - accuracy: 1.0000 - loss: 4.5021e-04 - val_accuracy: 0.5375 - val_loss: 4.1885\n"
          ]
        }
      ]
    },
    {
      "cell_type": "code",
      "source": [
        "history_df = pd.DataFrame(history.history)\n",
        "history_df.loc[:,['accuracy','val_accuracy']].plot()\n",
        "plt.show()"
      ],
      "metadata": {
        "colab": {
          "base_uri": "https://localhost:8080/",
          "height": 430
        },
        "id": "-bz6E4gWB_Uc",
        "outputId": "d8f948d5-2d19-4812-bf13-f9ae4fca6a16"
      },
      "id": "-bz6E4gWB_Uc",
      "execution_count": 15,
      "outputs": [
        {
          "output_type": "display_data",
          "data": {
            "text/plain": [
              "<Figure size 640x480 with 1 Axes>"
            ],
            "image/png": "[encoded data removed]"
          },
          "metadata": {}
        }
      ]
    },
    {
      "cell_type": "code",
      "source": [
        "Y_pred = model.predict(X_val)\n",
        "Y_val = np.argmax(Y_val, axis=1)\n",
        "Y_pred = np.argmax(Y_pred, axis=1)\n",
        "print(metrics.classification_report(Y_val, Y_pred,\n",
        "                                    target_names=classes))"
      ],
      "metadata": {
        "colab": {
          "base_uri": "https://localhost:8080/"
        },
        "id": "dNCM38ZKCVhr",
        "outputId": "4256d392-8b80-4e62-ca08-b1a1e3b0f259"
      },
      "id": "dNCM38ZKCVhr",
      "execution_count": 16,
      "outputs": [
        {
          "output_type": "stream",
          "name": "stdout",
          "text": [
            "\u001b[1m8/8\u001b[0m \u001b[32m━━━━━━━━━━━━━━━━━━━━\u001b[0m\u001b[37m\u001b[0m \u001b[1m8s\u001b[0m 962ms/step\n",
            "              precision    recall  f1-score   support\n",
            "\n",
            "      lung_n       1.00      0.07      0.14       120\n",
            "    lung_aca       0.52      1.00      0.68       120\n",
            "\n",
            "    accuracy                           0.54       240\n",
            "   macro avg       0.76      0.54      0.41       240\n",
            "weighted avg       0.76      0.54      0.41       240\n",
            "\n"
          ]
        }
      ]
    }
  ],
  "metadata": {
    "colab": {
      "provenance": [],
      "include_colab_link": true
    },
    "kernelspec": {
      "display_name": "Python 3",
      "name": "python3"
    },
    "language_info": {
      "name": "python"
    }
  },
  "nbformat": 4,
  "nbformat_minor": 5
}