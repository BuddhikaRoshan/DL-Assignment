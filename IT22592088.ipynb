{
  "nbformat": 4,
  "nbformat_minor": 0,
  "metadata": {
    "colab": {
      "provenance": [],
      "authorship_tag": "ABX9TyOg2MuTA6f3wZ9zpqE1I5a8",
      "include_colab_link": true
    },
    "kernelspec": {
      "name": "python3",
      "display_name": "Python 3"
    },
    "language_info": {
      "name": "python"
    }
  },
  "cells": [
    {
      "cell_type": "markdown",
      "metadata": {
        "id": "view-in-github",
        "colab_type": "text"
      },
      "source": [
        "<a href=\"https://colab.research.google.com/github/BuddhikaRoshan/Deep-Learning-Assignment/blob/sonaliliyanahetti-patch-1/IT22592088.ipynb\" target=\"_parent\"><img src=\"https://colab.research.google.com/assets/colab-badge.svg\" alt=\"Open In Colab\"/></a>"
      ]
    },
    {
      "cell_type": "markdown",
      "source": [
        "**Chest X-ray lung cancer image classification task. This approach utilizes the ResNet50 architecture for Transfer Learning after performing essential data preprocessing, including extraction, resizing, and splitting the dataset into training and validation** **sets** **bold text** **bold text** **bold text** **bold text**"
      ],
      "metadata": {
        "id": "rM8sDy1hjEep"
      }
    },
    {
      "cell_type": "code",
      "execution_count": 2,
      "metadata": {
        "colab": {
          "base_uri": "https://localhost:8080/"
        },
        "id": "K5NcQbkRbOYK",
        "outputId": "1eaf66ca-ef15-4996-c09b-18b37d1dc195"
      },
      "outputs": [
        {
          "output_type": "stream",
          "name": "stdout",
          "text": [
            "Mounted at /content/drive\n"
          ]
        }
      ],
      "source": [
        "from google.colab import drive\n",
        "drive.mount('/content/drive')"
      ]
    },
    {
      "cell_type": "code",
      "source": [
        "import matplotlib.pyplot as plt\n",
        "import numpy as np\n",
        "import os\n",
        "\n",
        "import tensorflow as tf\n",
        "from tensorflow import keras\n",
        "from tensorflow.keras import layers\n",
        "from tensorflow.keras.layers import Dense,Flatten\n",
        "from tensorflow.keras.models import Sequential\n",
        "from tensorflow.keras.optimizers import Adam"
      ],
      "metadata": {
        "id": "QOvdGFHCbnl-"
      },
      "execution_count": 3,
      "outputs": []
    },
    {
      "cell_type": "markdown",
      "source": [
        "#Data Extraction"
      ],
      "metadata": {
        "id": "AV6QZssLdVlo"
      }
    },
    {
      "cell_type": "code",
      "source": [
        "dataset_url = '/content/drive/MyDrive/DL/lung_images.zip'\n",
        "\n",
        "\n",
        "from zipfile import ZipFile #to extract .zip files.\n",
        "import cv2 #for reading and resizing images\n",
        "import gc\n",
        "import os\n",
        "\n",
        "#Opens the ZIP file from Drive and extracts all images into\n",
        "#a folder named 'lung_images'.\n",
        "with ZipFile(dataset_url,'r') as zip:\n",
        "  zip.extractall()\n",
        "print('The data set has been extracted')"
      ],
      "metadata": {
        "colab": {
          "base_uri": "https://localhost:8080/"
        },
        "id": "YQswYG51dhr2",
        "outputId": "a3c81617-bf2e-4559-c24c-0d2858e66ecd"
      },
      "execution_count": 4,
      "outputs": [
        {
          "output_type": "stream",
          "name": "stdout",
          "text": [
            "The data set has been extracted\n"
          ]
        }
      ]
    },
    {
      "cell_type": "markdown",
      "source": [
        "# **Data preparation**"
      ],
      "metadata": {
        "id": "3oaU76XwnfBS"
      }
    },
    {
      "cell_type": "code",
      "source": [
        "path ='lung_images'#unzipped folder name\n",
        "classes=['lung_n','lung_aca']\n",
        " #two classes,\n",
        "#lung_n → normal lungs\n",
        "#lung_aca → lungs with adenocarcinoma (cancer)#binary classification"
      ],
      "metadata": {
        "id": "V8zBTaUofCur"
      },
      "execution_count": 5,
      "outputs": []
    },
    {
      "cell_type": "code",
      "source": [
        "Img_Size=256 #pixel size\n",
        "Split=0.2 #20% for validation\n",
        "epochs=10 #train upto\n",
        "Batch_size=64 #64 images are processed per training step"
      ],
      "metadata": {
        "id": "IPeVOQqboNKv"
      },
      "execution_count": 6,
      "outputs": []
    },
    {
      "cell_type": "code",
      "source": [
        "import cv2\n",
        "import glob\n",
        "\n",
        "x,y = [], [] #pixel value,class numbers\n",
        "\n",
        "#loop through class\n",
        "for i,cate in enumerate(classes):#enumerate: built in function to get both value and index no\n",
        "  #glob-find all image paths in each class folder.\n",
        "  images= glob.glob(f'{path}/{cate}/*.jpeg')\n",
        "  for img in images:\n",
        "    #read images using OpenCV\n",
        "    #It converts the image file into a NumPy array of pixel values\n",
        "    img= cv2.imread(img)\n",
        "    img=cv2.resize(img,(Img_Size,Img_Size))\n",
        "    x.append(img)\n",
        "    y.append(i)"
      ],
      "metadata": {
        "id": "V4PKzSXjpZtW"
      },
      "execution_count": 7,
      "outputs": []
    }
  ]
}